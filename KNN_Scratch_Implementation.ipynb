{
  "nbformat": 4,
  "nbformat_minor": 0,
  "metadata": {
    "colab": {
      "provenance": [],
      "authorship_tag": "ABX9TyOGiYD0Wo/OXfyZOP2Pzl0Q",
      "include_colab_link": true
    },
    "kernelspec": {
      "name": "python3",
      "display_name": "Python 3"
    },
    "language_info": {
      "name": "python"
    }
  },
  "cells": [
    {
      "cell_type": "markdown",
      "metadata": {
        "id": "view-in-github",
        "colab_type": "text"
      },
      "source": [
        "<a href=\"https://colab.research.google.com/github/dadhichgrv/100-days-of-machine-learning/blob/main/KNN_Scratch_Implementation.ipynb\" target=\"_parent\"><img src=\"https://colab.research.google.com/assets/colab-badge.svg\" alt=\"Open In Colab\"/></a>"
      ]
    },
    {
      "cell_type": "code",
      "execution_count": 8,
      "metadata": {
        "id": "SkhVJMU12iOs"
      },
      "outputs": [],
      "source": [
        "# Implement KNN from scratch\n",
        "import numpy as np\n",
        "\n",
        "from collections import Counter"
      ]
    },
    {
      "cell_type": "code",
      "source": [
        "class knn:\n",
        "  def __init__(self, k):\n",
        "    self.n_neighbors = k\n",
        "    self.x_train = None\n",
        "    self.y_train = None\n",
        "\n",
        "  def fit(self, x_train,y_train):\n",
        "    self.x_train = x_train\n",
        "    self.y_train = y_train\n",
        "\n",
        "  def predict(self,x_test):\n",
        "    y_pred = []\n",
        "    for i in x_test:\n",
        "      distance = []\n",
        "      for j in self.x_train:\n",
        "        distance.append(self.calculate_distance(i,j))\n",
        "      n_neighbors = sorted(list(enumerate(distance)),key=lambda x:x[1])[0:self.n_neighbors]\n",
        "      label = self.majority_count(n_neighbors)\n",
        "      y_pred.append(label)\n",
        "\n",
        "    return np.array(y_pred)  \n",
        "   \n",
        "\n",
        "# Helper function to calculate distance between two points \n",
        "  def calculate_distance(self,point_a, point_b):\n",
        "    return np.linalg.norm(point_a - point_b)\n",
        "  \n",
        "# Helper function to calculate majority count of labels  \n",
        "  def majority_count(self,neighbors):\n",
        "    votes = []\n",
        "    for i in neighbors:\n",
        "      votes.append(self.y_train[i[0]])\n",
        "    return Counter(votes).most_common()[0][0]  \n",
        "\n",
        "# END"
      ],
      "metadata": {
        "id": "Jf-X3_s02qcn"
      },
      "execution_count": 5,
      "outputs": []
    },
    {
      "cell_type": "code",
      "source": [
        "a = np.array([1,2])\n",
        "b = np.array([3,4])\n",
        "d = knn.predict(a,b)"
      ],
      "metadata": {
        "colab": {
          "base_uri": "https://localhost:8080/"
        },
        "id": "uBEyhVT88oCi",
        "outputId": "51072bf9-6983-401e-865a-0f4f4fbe76f7"
      },
      "execution_count": 6,
      "outputs": [
        {
          "output_type": "execute_result",
          "data": {
            "text/plain": [
              "2.8284271247461903"
            ]
          },
          "metadata": {},
          "execution_count": 6
        }
      ]
    }
  ]
}